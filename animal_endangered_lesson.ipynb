{
  "cells": [
    {
      "cell_type": "markdown",
      "id": "ecfa0e08",
      "metadata": {
        "id": "ecfa0e08"
      },
      "source": [
        "\n",
        "# 🐾 Data for the Wild: Understanding Endangered Animals\n",
        "**Duration:** 20–30 minutes  \n",
        "**Tools:** Python, pandas, matplotlib  \n",
        "**Dataset:** Animal Information Dataset (CSV)\n",
        "\n",
        "**Big Question:** _What can data teach us about endangered animals—and how can we use it to care better?_\n",
        "\n",
        "Today you'll use real animal data to:\n",
        "- Clean and standardize messy values (like `\"270-310\"`).\n",
        "- Ask and answer questions about **Conservation Status** (e.g., Endangered, Vulnerable).\n",
        "- Pick **one endangered animal** and compare it with similar species to discover a trend.\n"
      ]
    },
    {
      "cell_type": "markdown",
      "id": "fa35d0a4",
      "metadata": {
        "id": "fa35d0a4"
      },
      "source": [
        "\n",
        "## 🎯 Learning Goals\n",
        "By the end of this activity, you will be able to:\n",
        "1. Load a CSV into pandas and **inspect** columns and rows.  \n",
        "2. **Pre-clean** data by converting ranges to numbers and standardizing categories.  \n",
        "3. Create **subsets** (e.g., all Endangered animals, or all animals in a Family/Habitat).  \n",
        "4. Use **groupby** + **visualization** to compare your chosen animal to similar species.  \n",
        "5. **Explain** your findings in clear, simple language.\n"
      ]
    },
    {
      "cell_type": "markdown",
      "id": "84921800",
      "metadata": {
        "id": "84921800"
      },
      "source": [
        "## 1) Setup & Imports (run this first)"
      ]
    },
    {
      "cell_type": "code",
      "execution_count": null,
      "id": "e556b971",
      "metadata": {
        "id": "e556b971"
      },
      "outputs": [],
      "source": [
        "import pandas as pd\n",
        "import numpy as np\n",
        "import matplotlib.pyplot as plt\n",
        "from IPython.display import Image\n",
        "\n",
        "%matplotlib inline\n",
        "pd.set_option(\"display.max_columns\", 50)\n"
      ]
    },
    {
      "cell_type": "markdown",
      "id": "6a87d907",
      "metadata": {
        "id": "6a87d907"
      },
      "source": [
        "\n",
        "## 2) Load the Dataset\n",
        "> If your CSV has a different name or is in another folder, change `DATA_PATH` below.\n",
        "\n",
        "## 2) Load the Dataset\n",
        "Let's read the CSV file into a pandas DataFrame and peek at the first few rows.\n",
        "\n",
        "To do this you'll need to add the data to your collab using the following steps\n",
        "1. Click the file folder on the right side panel\n",
        "2. rightclick the white space to create a new folder\n",
        "3. rename the new folder `data`\n",
        "4. download [this linked file](https://drive.google.com/file/d/1hrI2QJxpZHv9drTkI6QdKBQ1D0arp-Q-/view?usp=drive_link) from google drive\n",
        "5. click the upload button place this file in your data folder\n",
        "\n"
      ]
    },
    {
      "cell_type": "code",
      "execution_count": null,
      "id": "12e19573",
      "metadata": {
        "id": "12e19573"
      },
      "outputs": [],
      "source": [
        "\n",
        "DATA_PATH = \"data/Animal-dataset.csv\"\n",
        "\n",
        "animals = pd.read_csv(DATA_PATH)\n",
        "\n",
        "animals.head()\n"
      ]
    },
    {
      "cell_type": "markdown",
      "id": "f993820d",
      "metadata": {
        "id": "f993820d"
      },
      "source": [
        "\n",
        "## 3) First Look at the Data\n",
        "Let's check columns, data types, and a quick summary.\n"
      ]
    },
    {
      "cell_type": "code",
      "execution_count": null,
      "id": "78807029",
      "metadata": {
        "id": "78807029"
      },
      "outputs": [],
      "source": [
        "\n",
        "animals.info()\n"
      ]
    },
    {
      "cell_type": "code",
      "execution_count": null,
      "id": "c16b6555",
      "metadata": {
        "id": "c16b6555"
      },
      "outputs": [],
      "source": [
        "\n",
        "animals.describe(include=\"all\")\n"
      ]
    },
    {
      "cell_type": "markdown",
      "id": "593c6798",
      "metadata": {
        "id": "593c6798"
      },
      "source": [
        "\n",
        "## 4) Why Pre‑Clean the Data?\n",
        "Real datasets are **messy**. In this file, some numbers show up as **ranges** like `\"270-310\"` or contain non-numeric text.  \n",
        "If we use these values as-is, our averages and charts would be **wrong**.\n",
        "\n",
        "**Plan:**  \n",
        "1. Convert ranges like `\"270-310\"` into the **mean**: `(270 + 310) / 2 = 290`.  \n",
        "2. Turn any non-numeric leftovers into **NaN** (missing) and optionally fill when needed.  \n",
        "3. Standardize text categories like **Conservation Status** (consistent capitalization).\n",
        "\n",
        "> We choose **median** to fill missing numeric values when necessary because it is less sensitive to outliers than the mean.\n"
      ]
    },
    {
      "cell_type": "code",
      "execution_count": null,
      "id": "c9db996a",
      "metadata": {
        "id": "c9db996a"
      },
      "outputs": [],
      "source": [
        "# Run this cell to clean the data\n",
        "\n",
        "import numpy as np\n",
        "\n",
        "def to_number_or_nan(x):\n",
        "    try:\n",
        "        return float(x)\n",
        "    except:\n",
        "        return np.nan\n",
        "\n",
        "def convert_range_to_mean(value):\n",
        "    if isinstance(value, str):\n",
        "        v = value.replace(\"–\", \"-\").replace(\"—\", \"-\").strip()\n",
        "        v = \"\".join(ch for ch in v if ch.isdigit() or ch in \".-\")\n",
        "        if \"-\" in v:\n",
        "            parts = [p for p in v.split(\"-\") if p != \"\"]\n",
        "            if len(parts) == 2:\n",
        "                try:\n",
        "                    a, b = float(parts[0]), float(parts[1])\n",
        "                    return (a + b) / 2.0\n",
        "                except:\n",
        "                    return to_number_or_nan(v)\n",
        "        return to_number_or_nan(v)\n",
        "    return to_number_or_nan(value)\n",
        "\n",
        "def standardize_status(s):\n",
        "    if pd.isna(s):\n",
        "        return s\n",
        "    s = str(s).strip().title()\n",
        "    mapping = {\n",
        "        \"Least Concern\": \"Least Concern\",\n",
        "        \"Near Threatened\": \"Near Threatened\",\n",
        "        \"Vulnerable\": \"Vulnerable\",\n",
        "        \"Endangered\": \"Endangered\",\n",
        "        \"Critically Endangered\": \"Critically Endangered\",\n",
        "        \"Extinct In The Wild\": \"Extinct In The Wild\",\n",
        "        \"Extinct\": \"Extinct\",\n",
        "        \"Critically-Endangered\": \"Critically Endangered\",\n",
        "        \"Near-Threatened\": \"Near Threatened\",\n",
        "    }\n",
        "    return mapping.get(s, s)\n"
      ]
    },
    {
      "cell_type": "markdown",
      "id": "49e46bcd",
      "metadata": {
        "id": "49e46bcd"
      },
      "source": [
        "\n",
        "### Apply the Cleaning Steps\n",
        "We will convert range-values to numbers for key numeric columns and standardize conservation status.\n"
      ]
    },
    {
      "cell_type": "code",
      "execution_count": null,
      "id": "1a293fc9",
      "metadata": {
        "id": "1a293fc9"
      },
      "outputs": [],
      "source": [
        "\n",
        "numeric_range_cols = [\n",
        "    \"Height (cm)\",\n",
        "    \"Weight (kg)\",\n",
        "    \"Lifespan (years)\",\n",
        "    \"Average Speed (km/h)\",\n",
        "    \"Top Speed (km/h)\",\n",
        "    \"Gestation Period (days)\",\n",
        "]\n",
        "\n",
        "for col in numeric_range_cols:\n",
        "    if col in animals.columns:\n",
        "        animals[col] = animals[col].apply(convert_range_to_mean)\n",
        "\n",
        "if \"Conservation Status\" in animals.columns:\n",
        "    animals[\"Conservation Status\"] = animals[\"Conservation Status\"].apply(standardize_status)\n",
        "\n",
        "for col in numeric_range_cols:\n",
        "    if col in animals.columns:\n",
        "        med = animals[col].median(skipna=True)\n",
        "        animals[col] = animals[col].fillna(med)\n",
        "\n",
        "animals.head()\n"
      ]
    },
    {
      "cell_type": "markdown",
      "id": "f4c81bcd",
      "metadata": {
        "id": "f4c81bcd"
      },
      "source": [
        "\n",
        "### Quick Sanity Checks\n",
        "Are the numeric columns numeric now? Do we have consistent conservation labels?\n"
      ]
    },
    {
      "cell_type": "markdown",
      "id": "62608c0f",
      "metadata": {
        "id": "62608c0f"
      },
      "source": [
        "###### Tip a float is a number with decimals\n",
        "###### - the cleaning process turned these values into floats\n",
        "###### - working with floats lets us visualize the data in a more accurate way"
      ]
    },
    {
      "cell_type": "code",
      "execution_count": null,
      "id": "24cd113b",
      "metadata": {
        "id": "24cd113b"
      },
      "outputs": [],
      "source": [
        "# notice the float64 data type for the numeric columns\n",
        "animals.dtypes\n"
      ]
    },
    {
      "cell_type": "code",
      "execution_count": null,
      "id": "ab5a209a",
      "metadata": {
        "id": "ab5a209a"
      },
      "outputs": [],
      "source": [
        "\n",
        "animals[\"Conservation Status\"].value_counts(dropna=False)\n"
      ]
    },
    {
      "cell_type": "markdown",
      "id": "fc7d7208",
      "metadata": {
        "id": "fc7d7208"
      },
      "source": [
        "\n",
        "## 5) Choose Your Endangered Animal\n",
        "> Type the name of an endangered animal below. We'll help you compare it with **similar species**.\n",
        "\n",
        "**Similarity order (we try in this order):**\n",
        "1) Same **Family** (best comparison)  \n",
        "2) Else same **Habitat**  \n",
        "3) Else same **Diet**\n"
      ]
    },
    {
      "cell_type": "code",
      "execution_count": null,
      "id": "02c6e261",
      "metadata": {
        "id": "02c6e261"
      },
      "outputs": [],
      "source": [
        "\n",
        "# 👉 Edit this with the exact Animal name from the dataset (case-insensitive)\n",
        "chosen_name = \"African Elephant\"\n",
        "# find a picture of your animal and add it here\n",
        "animal_pic = \"https://cdn.britannica.com/72/272-050-E1965E27/African-elephant-Kenya.jpg\"\n",
        "image = Image(animal_pic)\n",
        "display(image)\n",
        "print(f\"The {chosen_name}\")\n",
        "\n"
      ]
    },
    {
      "cell_type": "code",
      "execution_count": null,
      "id": "139374bc",
      "metadata": {
        "id": "139374bc"
      },
      "outputs": [],
      "source": [
        "#search for the animal in the dataset\n",
        "mask = animals[\"Animal\"].str.lower() == chosen_name.lower()\n",
        "if mask.any():\n",
        "    print(f\"{chosen_name} found in dataset\")\n",
        "    display(animals[mask])\n",
        "else:\n",
        "    print(f\"{chosen_name} not found in dataset\")\n"
      ]
    },
    {
      "cell_type": "code",
      "execution_count": null,
      "id": "ada7ece5",
      "metadata": {
        "id": "ada7ece5"
      },
      "outputs": [],
      "source": [
        "# this function is used to find a group of similar animals to the chosen animal\n",
        "def get_similar_group(df, chosen_row):\n",
        "    candidates = []\n",
        "    if \"Family\" in df.columns and pd.notna(chosen_row.get(\"Family\", np.nan)):\n",
        "        fam = chosen_row[\"Family\"]\n",
        "        grp = df[df[\"Family\"] == fam]\n",
        "        if len(grp) >= 3:\n",
        "            return grp, f\"Family: {fam}\"\n",
        "        candidates.append((\"Family\", fam, len(grp)))\n",
        "    if \"Habitat\" in df.columns and pd.notna(chosen_row.get(\"Habitat\", np.nan)):\n",
        "        hab = chosen_row[\"Habitat\"]\n",
        "        grp = df[df[\"Habitat\"] == hab]\n",
        "        if len(grp) >= 3:\n",
        "            return grp, f\"Habitat: {hab}\"\n",
        "        candidates.append((\"Habitat\", hab, len(grp)))\n",
        "    if \"Diet\" in df.columns and pd.notna(chosen_row.get(\"Diet\", np.nan)):\n",
        "        diet = chosen_row[\"Diet\"]\n",
        "        grp = df[df[\"Diet\"] == diet]\n",
        "        if len(grp) >= 3:\n",
        "            return grp, f\"Diet: {diet}\"\n",
        "        candidates.append((\"Diet\", diet, len(grp)))\n",
        "    return df, \"All Animals (fallback)\"\n"
      ]
    },
    {
      "cell_type": "code",
      "execution_count": null,
      "id": "e2aaf7ff",
      "metadata": {
        "id": "e2aaf7ff"
      },
      "outputs": [],
      "source": [
        "\n",
        "# Show the conservation status of all animals in the same family as the chosen animal\n",
        "mask = animals[\"Animal\"].str.lower() == chosen_name.lower()\n",
        "if not mask.any():\n",
        "    raise ValueError(f\"Animal named '{chosen_name}' not found. Try another from animals['Animal'].unique()[:25]\")\n",
        "\n",
        "chosen = animals[mask].iloc[0]\n",
        "\n",
        "if \"Family\" not in animals.columns or pd.isna(chosen.get(\"Family\", None)):\n",
        "    raise ValueError(\"Family information is not available for the chosen animal.\")\n",
        "\n",
        "family_name = chosen[\"Family\"]\n",
        "family_df = animals[animals[\"Family\"] == family_name]\n",
        "\n",
        "# Set group_df and group_desc to the family group, to preserve downstream code\n",
        "group_df = family_df\n",
        "group_desc = f\"Family: {family_name} (n={len(group_df)})\"\n",
        "\n",
        "print(f\"Conservation Status of animals in the Family: {family_name} (n={len(family_df)})\")\n",
        "display(family_df[[\"Animal\", \"Conservation Status\"]])\n"
      ]
    },
    {
      "cell_type": "markdown",
      "id": "586946f5",
      "metadata": {
        "id": "586946f5"
      },
      "source": [
        "\n",
        "## 6) Compare Your Animal to Similar Species\n",
        "We'll compare your chosen animal to others in the selected group for basic traits and risk.\n"
      ]
    },
    {
      "cell_type": "code",
      "execution_count": null,
      "id": "f5fb4b2e",
      "metadata": {
        "id": "f5fb4b2e"
      },
      "outputs": [],
      "source": [
        "\n",
        "summary_stats = group_df.agg({\n",
        "    c: [\"mean\",\"median\"] for c in [\"Height (cm)\",\"Weight (kg)\",\"Lifespan (years)\"] if c in group_df.columns\n",
        "})\n",
        "summary_stats\n",
        "\n"
      ]
    },
    {
      "cell_type": "code",
      "execution_count": null,
      "id": "e7e44cac",
      "metadata": {
        "id": "e7e44cac"
      },
      "outputs": [],
      "source": [
        "\n",
        "if \"Conservation Status\" in family_df.columns:\n",
        "    family_df[\"Conservation Status\"].value_counts().plot(kind=\"bar\", figsize=(6,4))\n",
        "    plt.title(f\"Conservation Status in {group_desc}\")\n",
        "    plt.ylabel(\"Count\")\n",
        "    plt.tight_layout()\n",
        "    plt.show()\n"
      ]
    },
    {
      "cell_type": "code",
      "execution_count": null,
      "id": "41161125",
      "metadata": {
        "id": "41161125"
      },
      "outputs": [],
      "source": [
        "\n",
        "xcol, ycol = \"Weight (kg)\", \"Lifespan (years)\"\n",
        "if xcol in group_df.columns and ycol in group_df.columns:\n",
        "    status_codes = group_df[\"Conservation Status\"].astype(\"category\").cat.codes if \"Conservation Status\" in group_df.columns else np.zeros(len(group_df))\n",
        "    plt.figure(figsize=(6,4))\n",
        "    plt.scatter(group_df[xcol], group_df[ycol], c=status_codes, alpha=0.7)\n",
        "    plt.scatter(chosen[xcol], chosen[ycol], s=160, edgecolor=\"black\", linewidth=1.5, marker=\"*\", label=chosen[\"Animal\"])\n",
        "\n",
        "    # Show names for each animal\n",
        "    for _, row in group_df.iterrows():\n",
        "        plt.text(row[xcol], row[ycol], str(row[\"Animal\"]), fontsize=8, alpha=0.7)\n",
        "\n",
        "    plt.title(f\"{ycol} vs {xcol} in {group_desc}\")\n",
        "    plt.xlabel(xcol); plt.ylabel(ycol)\n",
        "    plt.legend()\n",
        "    plt.tight_layout()\n",
        "    plt.show()\n",
        "\n"
      ]
    },
    {
      "cell_type": "markdown",
      "id": "a1622173",
      "metadata": {
        "id": "a1622173"
      },
      "source": [
        "\n",
        "## 7) Your Turn: Ask a Question, Find Evidence\n",
        "Pick **one** prompt (or create your own) and answer below:\n",
        "- Does your animal have a **longer or shorter lifespan** than similar species? Might that affect its risk?\n",
        "- Is your animal **heavier or lighter** than the group? How could that matter for survival?\n",
        "- Which **Conservation Status** is most common in this group, and why might that be?\n",
        "\n",
        "**Type your brief answer here (markdown):**\n"
      ]
    },
    {
      "cell_type": "markdown",
      "id": "64178d69",
      "metadata": {
        "id": "64178d69"
      },
      "source": [
        "\n",
        "## 8  Try Another Comparison\n",
        "Change `new_chosen_name` in the cell below to Try a different animal.\n"
      ]
    },
    {
      "cell_type": "code",
      "execution_count": null,
      "id": "3d5f5abc",
      "metadata": {
        "id": "3d5f5abc"
      },
      "outputs": [],
      "source": [
        "# lets try a different animal\n",
        "new_chosen_name = \"cheetah\" # place a new animal in the quotes here\n",
        "\n",
        "# find a picture of your animal and add it here\n",
        "new_animal_pic = \"https://placehold.co/600x400.png\"\n",
        "new_image = Image(new_animal_pic)\n",
        "display(new_image)\n",
        "print(f\"The {new_chosen_name}\")\n"
      ]
    },
    {
      "cell_type": "code",
      "execution_count": null,
      "id": "e0c68401",
      "metadata": {
        "id": "e0c68401"
      },
      "outputs": [],
      "source": [
        "#search for the animal in the dataset\n",
        "mask = animals[\"Animal\"].str.lower().str.contains(new_chosen_name.lower(), na=False)\n",
        "matched = animals[mask]\n",
        "if len(matched) == 0:\n",
        "    print(f\"{new_chosen_name} not found in dataset\")\n",
        "elif len(matched) == 1:\n",
        "    print(f\"{new_chosen_name} found in dataset\")\n",
        "    display(matched)\n",
        "else:\n",
        "    print(f\"Multiple animals matched '{new_chosen_name}'. Please pick one by number:\")\n",
        "    display(matched.reset_index(drop=True)[[\"Animal\"]])\n",
        "    try:\n",
        "        idx = int(input(\"Type the number next to your chosen animal (starting at 0): \"))\n",
        "        if 0 <= idx < len(matched):\n",
        "            matched = matched.iloc[[idx]]\n",
        "            print(f\"You selected: {matched.iloc[0]['Animal']}\")\n",
        "            display(matched)\n",
        "        else:\n",
        "            print(\"Invalid choice. Please try running the cell again.\")\n",
        "            matched = matched.iloc[[0]]  # Fallback to first entry\n",
        "    except Exception as e:\n",
        "        print(\"Invalid input. Please try running the cell again.\")\n",
        "        matched = matched.iloc[[0]]  # Fallback to first entry"
      ]
    },
    {
      "cell_type": "code",
      "execution_count": null,
      "id": "2f113321",
      "metadata": {
        "id": "2f113321"
      },
      "outputs": [],
      "source": [
        "# Show the conservation status of all animals in the same family as the new chosen animal\n",
        "\n",
        "# We'll pick the first match for family analysis\n",
        "chosen_new = matched.iloc[0]\n",
        "\n",
        "# Include logic similar to the linked cell: check for \"Family\" column and handle missing/NA family\n",
        "if \"Family\" not in animals.columns or pd.isna(chosen_new.get(\"Family\", None)):\n",
        "    raise ValueError(\"Family information is not available for the chosen animal.\")\n",
        "\n",
        "family_name_new = chosen_new[\"Family\"]\n",
        "family_group_df = animals[animals[\"Family\"] == family_name_new]\n",
        "\n",
        "# Also assign group_df and group_desc for possible downstream use (mirroring linked logic)\n",
        "group_df = family_group_df\n",
        "group_desc = f\"Family: {family_name_new} (n={len(group_df)})\"\n",
        "\n",
        "print(f\"Conservation Status of animals in the Family: {family_name_new} (n={len(family_group_df)})\")\n",
        "display(family_group_df[[\"Animal\", \"Conservation Status\"]])\n"
      ]
    },
    {
      "cell_type": "code",
      "execution_count": null,
      "id": "9f73f07c",
      "metadata": {
        "id": "9f73f07c"
      },
      "outputs": [],
      "source": [
        "\n",
        "# Compute summary statistics (mean, median) for all numeric columns in the group\n",
        "numeric_cols = group_df.select_dtypes(include='number').columns\n",
        "summary_stats = group_df[numeric_cols].agg(['mean', 'median'])\n",
        "summary_stats\n"
      ]
    },
    {
      "cell_type": "code",
      "execution_count": null,
      "id": "95d1b19d",
      "metadata": {
        "id": "95d1b19d"
      },
      "outputs": [],
      "source": [
        "if \"Conservation Status\" in group_df.columns:\n",
        "    status_counts = group_df[\"Conservation Status\"].value_counts()\n",
        "    ax = status_counts.plot(kind=\"bar\", figsize=(6, 4), color=\"teal\", edgecolor=\"black\")\n",
        "    ax.set_title(f\"Conservation Status in {group_desc}\")\n",
        "    ax.set_xlabel(\"Conservation Status\")\n",
        "    ax.set_ylabel(\"Count\")\n",
        "    plt.tight_layout()\n",
        "    plt.show()"
      ]
    },
    {
      "cell_type": "code",
      "execution_count": null,
      "id": "dccf5c79",
      "metadata": {
        "id": "dccf5c79"
      },
      "outputs": [],
      "source": [
        "xcol, ycol = \"Gestation Period (days)\", \"Lifespan (years)\" # changed the x and y columns to compare different traits\n",
        "if xcol in group_df.columns and ycol in group_df.columns:\n",
        "    import matplotlib.cm as cm\n",
        "    import matplotlib.colors as mcolors\n",
        "\n",
        "    statuses = group_df[\"Conservation Status\"].astype(str).fillna(\"Unknown\")\n",
        "    categories = statuses.astype(\"category\").cat.categories\n",
        "    n_status = len(categories)\n",
        "\n",
        "\n",
        "    cmap = cm.get_cmap(\"tab10\" if n_status <= 10 else \"tab20\", n_status)\n",
        "    color_map = {cat: cmap(i) for i, cat in enumerate(categories)}\n",
        "    colors = statuses.map(color_map)\n",
        "\n",
        "    plt.figure(figsize=(6,4))\n",
        "    plt.scatter(group_df[xcol], group_df[ycol], c=colors, alpha=0.7, label=None)\n",
        "\n",
        "    plt.scatter(\n",
        "        chosen_new[xcol], chosen_new[ycol],\n",
        "        s=160, edgecolor=\"black\", linewidth=1.5,\n",
        "        marker=\"*\", label=chosen_new[\"Animal\"],\n",
        "        color=color_map.get(str(chosen_new.get(\"Conservation Status\", \"Unknown\")), \"gold\")\n",
        "    )\n",
        "\n",
        "    for _, row in group_df.iterrows():\n",
        "        plt.text(row[xcol], row[ycol], str(row[\"Animal\"]), fontsize=8, alpha=0.7)\n",
        "\n",
        "    plt.title(f\"{ycol} vs {xcol} in {group_desc}\")\n",
        "    plt.xlabel(xcol)\n",
        "    plt.ylabel(ycol)\n",
        "\n",
        "    import matplotlib.patches as mpatches\n",
        "    handles = [mpatches.Patch(color=color_map[cat], label=cat) for cat in categories]\n",
        "\n",
        "    handles.append(\n",
        "        plt.Line2D(\n",
        "            [0], [0], marker='*', color='w', label=chosen_new[\"Animal\"],\n",
        "            markerfacecolor=color_map.get(str(chosen_new.get(\"Conservation Status\", \"Unknown\")), \"gold\"),\n",
        "            markeredgecolor='black', markersize=15, linewidth=0\n",
        "        )\n",
        "    )\n",
        "    plt.legend(handles=handles, title=\"Conservation Status / Animal\", loc='best', fontsize=8)\n",
        "\n",
        "    plt.tight_layout()\n",
        "    plt.show()\n"
      ]
    },
    {
      "cell_type": "markdown",
      "id": "ea36ab80",
      "metadata": {
        "id": "ea36ab80"
      },
      "source": [
        "\n",
        "## 9) Reflection (Exit Ticket)\n",
        "- What **surprised** you in the data today?\n",
        "- How did **cleaning** the data change what you could learn?\n",
        "- If you were designing a **conservation project**, which animals would you focus on—and why?\n",
        "\n",
        "---\n",
        "\n",
        "_Last updated: 2025-10-21 20:05 UTC_\n"
      ]
    },
    {
      "cell_type": "markdown",
      "id": "ff8c493f",
      "metadata": {
        "id": "ff8c493f"
      },
      "source": [
        "# place your thoughts here\n",
        "\n",
        "-"
      ]
    },
    {
      "cell_type": "markdown",
      "id": "cf42d8ec",
      "metadata": {
        "id": "cf42d8ec"
      },
      "source": []
    }
  ],
  "metadata": {
    "kernelspec": {
      "display_name": "Python 3",
      "language": "python",
      "name": "python3"
    },
    "language_info": {
      "codemirror_mode": {
        "name": "ipython",
        "version": 3
      },
      "file_extension": ".py",
      "mimetype": "text/x-python",
      "name": "python",
      "nbconvert_exporter": "python",
      "pygments_lexer": "ipython3",
      "version": "3.9.6"
    },
    "colab": {
      "provenance": []
    }
  },
  "nbformat": 4,
  "nbformat_minor": 5
}